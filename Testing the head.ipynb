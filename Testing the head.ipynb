{
 "cells": [
  {
   "cell_type": "code",
   "execution_count": 2,
   "id": "0d933ac2",
   "metadata": {},
   "outputs": [],
   "source": [
    "from reachy_sdk import ReachySDK"
   ]
  },
  {
   "cell_type": "markdown",
   "id": "c6b5cd59",
   "metadata": {},
   "source": [
    "Connect to Reachy. If you're working directly on the robot, use\n",
    "\n",
    "```python\n",
    "host='localhost'\n",
    "```\n",
    "\n",
    "If not, just get Reachy's IP address with\n",
    "\n",
    "```bash\n",
    "$ ifconfig\n",
    "```\n",
    "\n",
    "and replace the host argument zith the IP address."
   ]
  },
  {
   "cell_type": "code",
   "execution_count": 3,
   "id": "ecfbe8fc",
   "metadata": {},
   "outputs": [],
   "source": [
    "reachy = ReachySDK(host='localhost')"
   ]
  },
  {
   "cell_type": "markdown",
   "id": "643096f9",
   "metadata": {},
   "source": [
    "Check if you see the five joints of the head."
   ]
  },
  {
   "cell_type": "code",
   "execution_count": 4,
   "id": "05712290",
   "metadata": {},
   "outputs": [
    {
     "data": {
      "text/plain": [
       "<Head joints=<Holder\n",
       "\t<Joint name=\"l_antenna\" pos=\"-0.15\" mode=\"compliant\">\n",
       "\t<Joint name=\"r_antenna\" pos=\"0.73\" mode=\"compliant\">\n",
       "\t<Joint name=\"neck_disk_top\" pos=\"-57.36\" mode=\"compliant\">\n",
       "\t<Joint name=\"neck_disk_middle\" pos=\"-89.57\" mode=\"compliant\">\n",
       "\t<Joint name=\"neck_disk_bottom\" pos=\"-32.53\" mode=\"compliant\">\n",
       ">>"
      ]
     },
     "execution_count": 4,
     "metadata": {},
     "output_type": "execute_result"
    }
   ],
   "source": [
    "reachy.head"
   ]
  },
  {
   "cell_type": "markdown",
   "id": "756a520c",
   "metadata": {},
   "source": [
    "Use look_at to see if the zero has been actually done."
   ]
  },
  {
   "cell_type": "markdown",
   "id": "2e210b2e",
   "metadata": {},
   "source": [
    "## Checking Orbita"
   ]
  },
  {
   "cell_type": "code",
   "execution_count": 5,
   "id": "d205bb18",
   "metadata": {},
   "outputs": [],
   "source": [
    "reachy.turn_on('head')"
   ]
  },
  {
   "cell_type": "code",
   "execution_count": 10,
   "id": "38a6b3d7",
   "metadata": {},
   "outputs": [],
   "source": [
    "reachy.turn_off('head')"
   ]
  },
  {
   "cell_type": "markdown",
   "id": "243efbe9",
   "metadata": {},
   "source": [
    "Make Reachy look forward."
   ]
  },
  {
   "cell_type": "code",
   "execution_count": 20,
   "id": "818e494a",
   "metadata": {},
   "outputs": [],
   "source": [
    "test = spherical_to_cartesian(0.5, 95.74 + 10, 0 + 10)\n",
    "reachy.head.look_at(x=test[0], y=test[1], z=test[2], duration=2.0)"
   ]
  },
  {
   "cell_type": "code",
   "execution_count": 17,
   "id": "815a4183",
   "metadata": {},
   "outputs": [],
   "source": [
    "reachy.head.look_at(x=0.5, y=0, z=0, duration=1.0)"
   ]
  },
  {
   "cell_type": "code",
   "execution_count": 23,
   "id": "ef1c69ac",
   "metadata": {},
   "outputs": [],
   "source": [
    "import numpy as np\n",
    "\n",
    "angle_cote = 0\n",
    "angle_hauteur = 90\n",
    "\n",
    "def spherical_to_cartesian(radius, theta, phi):\n",
    "    t = degree_to_radian(theta)\n",
    "    p = degree_to_radian(phi)\n",
    "    x = round(radius*np.sin(t)*np.cos(p), 2)\n",
    "    y = round(radius*np.sin(t)*np.sin(p), 2)\n",
    "    z = round(radius*np.cos(t), 2)\n",
    "    return x, y, z\n",
    "\n",
    "def degree_to_radian(angle):\n",
    "    return angle*2*np.pi / 360\n",
    "\n",
    "ecoute = spherical_to_cartesian(0.5, 95.74 + angle_hauteur - 90, 0 + angle_cote)\n",
    "triste = spherical_to_cartesian(0.58, 121.15 + angle_hauteur - 90, 0 + angle_cote)\n",
    "content = spherical_to_cartesian(0.5, 95.74 + angle_hauteur - 90, 0 + angle_cote)\n",
    "incitation = spherical_to_cartesian(0.54, 84.26 + angle_hauteur - 90, 0 + angle_cote)\n",
    "reflexion = spherical_to_cartesian(0.54, 73.87 + angle_hauteur - 90, 16.7 + angle_cote)\n",
    "remerciement = spherical_to_cartesian(0.56, 116.51 + angle_hauteur - 90, 0 + angle_cote)"
   ]
  },
  {
   "cell_type": "code",
   "execution_count": 30,
   "id": "c9e7a49e",
   "metadata": {},
   "outputs": [],
   "source": [
    "#forward écoute\n",
    "reachy.head.l_antenna.goal_position = 0\n",
    "reachy.head.r_antenna.goal_position = 0\n",
    "\n",
    "reachy.head.look_at(x=ecoute[0], y=ecoute[1], z=ecoute[2], duration=2.0)"
   ]
  },
  {
   "cell_type": "code",
   "execution_count": 25,
   "id": "ac005dd4",
   "metadata": {},
   "outputs": [],
   "source": [
    "# triste\n",
    "reachy.head.l_antenna.speed_limit = 70.0\n",
    "reachy.head.r_antenna.speed_limit = 70.0\n",
    "    \n",
    "reachy.head.l_antenna.goal_position = 140.0\n",
    "reachy.head.r_antenna.goal_position = -140.0\n",
    "\n",
    "reachy.head.look_at(triste[0], triste[1], triste[2], 2.0)"
   ]
  },
  {
   "cell_type": "code",
   "execution_count": 16,
   "id": "2f805487",
   "metadata": {},
   "outputs": [],
   "source": [
    "# content\n",
    "import time\n",
    "\n",
    "reachy.head.look_at(x=content[0], y=content[1], z=content[2], duration=2.0)\n",
    "\n",
    "def happy_antennas():\n",
    "    reachy.head.l_antenna.speed_limit = 300.0\n",
    "    reachy.head.r_antenna.speed_limit = 300.0\n",
    "    \n",
    "    for _ in range(10):\n",
    "        reachy.head.l_antenna.goal_position = 20.0\n",
    "        reachy.head.r_antenna.goal_position = -20.0\n",
    "\n",
    "        time.sleep(0.1)\n",
    "\n",
    "        reachy.head.l_antenna.goal_position = -20.0\n",
    "        reachy.head.r_antenna.goal_position = 20.0\n",
    "\n",
    "        time.sleep(0.1)\n",
    "    \n",
    "    reachy.head.l_antenna.goal_position = 0.0\n",
    "    reachy.head.r_antenna.goal_position = 0.0\n",
    "\n",
    "happy_antennas()"
   ]
  },
  {
   "cell_type": "code",
   "execution_count": null,
   "id": "33e7a885",
   "metadata": {},
   "outputs": [],
   "source": [
    "# incitation\n",
    "reachy.head.l_antenna.speed_limit = 70.0\n",
    "reachy.head.r_antenna.speed_limit = 70.0\n",
    "\n",
    "reachy.head.l_antenna.goal_position = +35.0\n",
    "reachy.head.r_antenna.goal_position = -35.0\n",
    "\n",
    "reachy.head.look_at(x=incitation[0], y=incitation[1], z=incitation[2], duration=1.0)"
   ]
  },
  {
   "cell_type": "code",
   "execution_count": null,
   "id": "43d613e4",
   "metadata": {},
   "outputs": [],
   "source": [
    "# réfléchit\n",
    "reachy.head.l_antenna.speed_limit = 70.0\n",
    "reachy.head.r_antenna.speed_limit = 70.0\n",
    "\n",
    "reachy.head.l_antenna.goal_position = -40.0\n",
    "reachy.head.r_antenna.goal_position = +40.0\n",
    "\n",
    "reachy.head.look_at(x=reflexion[0], y=reflexion[1], z=reflexion[2], duration=1.0)"
   ]
  },
  {
   "cell_type": "code",
   "execution_count": null,
   "id": "4fad6ff3",
   "metadata": {},
   "outputs": [],
   "source": [
    "# remerciements\n",
    "reachy.head.l_antenna.speed_limit = 70.0\n",
    "reachy.head.r_antenna.speed_limit = 70.0\n",
    "\n",
    "reachy.head.l_antenna.goal_position = 0.0\n",
    "reachy.head.r_antenna.goal_position = 0.0\n",
    "    \n",
    "reachy.head.look_at(x=ecoute[0], y=ecoute[1], z=ecoute[2], duration=2.0)\n",
    "\n",
    "time.sleep(0.1)    \n",
    "\n",
    "reachy.head.l_antenna.goal_position = +40.0\n",
    "reachy.head.r_antenna.goal_position = -40.0\n",
    "\n",
    "reachy.head.look_at(x=remerciement[0], y=remerciement[1], z=remerciement[2], duration=0.5)\n",
    "\n",
    "time.sleep(0.3)\n",
    "\n",
    "reachy.head.l_antenna.goal_position = 0.0\n",
    "reachy.head.r_antenna.goal_position = 0.0\n",
    "\n",
    "reachy.head.look_at(x=ecoute[0], y=ecoute[1], z=ecoute[2], duration=0.5)"
   ]
  },
  {
   "cell_type": "markdown",
   "id": "56efdbec",
   "metadata": {},
   "source": [
    "If this didn't work, it's likely that the zeros of Orbita have not been set. To do that use [orbita_zero.py](https://github.com/pollen-robotics/reachy_controllers/blob/master/setup/orbita_zero.py)."
   ]
  },
  {
   "cell_type": "markdown",
   "id": "ce1999be",
   "metadata": {},
   "source": [
    "Next, reproduce the look_at sequence of the [documentation](https://pollen-robotics.github.io/reachy-2021-docs/sdk/first-moves/head/#orbita-look_at-method)."
   ]
  },
  {
   "cell_type": "code",
   "execution_count": null,
   "id": "ec9b7a02",
   "metadata": {},
   "outputs": [],
   "source": [
    "import time\n",
    "\n",
    "look_right = reachy.head.look_at(x=0.5, y=-0.5, z=0.1, duration=1.0)\n",
    "time.sleep(0.5)\n",
    "look_down = reachy.head.look_at(x=0.5, y=0, z=-0.4, duration=1.0)\n",
    "time.sleep(0.5)\n",
    "look_left = reachy.head.look_at(x=0.5, y=0.3, z=-0.3, duration=1.0)\n",
    "time.sleep(0.5)\n",
    "look_front = reachy.head.look_at(x=0.5, y=0, z=0, duration=1.0)"
   ]
  },
  {
   "cell_type": "markdown",
   "id": "6858fa4b",
   "metadata": {},
   "source": [
    "Make the head follow the end-effector. It is a good opportunity to check the forward kinematics of each arm as well.\n",
    "\n",
    "**Press the square button 'interrupt the kernel' when you want to stop this.**\n",
    "\n",
    "With the right arm:"
   ]
  },
  {
   "cell_type": "code",
   "execution_count": null,
   "id": "77c596b1",
   "metadata": {},
   "outputs": [],
   "source": [
    "try:\n",
    "    x, y, z = reachy.r_arm.forward_kinematics()[:3,-1] # We want the translation part of Reachy's pose matrix\n",
    "    reachy.head.look_at(x=x, y=y, z=z-0.05, duration=1.0) # There is a 5cm offset on the z axis\n",
    "\n",
    "    time.sleep(0.5)\n",
    "\n",
    "    while True:\n",
    "        x, y, z = reachy.r_arm.forward_kinematics()[:3,-1]\n",
    "        gp_dic = reachy.head._look_at(x, y, z - 0.05)\n",
    "        reachy.head.neck_disk_bottom.goal_position = gp_dic[reachy.head.neck_disk_bottom]\n",
    "        reachy.head.neck_disk_middle.goal_position = gp_dic[reachy.head.neck_disk_middle]\n",
    "        reachy.head.neck_disk_top.goal_position = gp_dic[reachy.head.neck_disk_top]\n",
    "        time.sleep(0.01)\n",
    "except AttributeError:\n",
    "    print('Reachy has no right arm!')"
   ]
  },
  {
   "cell_type": "markdown",
   "id": "d972c85a",
   "metadata": {},
   "source": [
    "With the left arm:"
   ]
  },
  {
   "cell_type": "code",
   "execution_count": null,
   "id": "67a6eeb2",
   "metadata": {},
   "outputs": [],
   "source": [
    "try:\n",
    "    x, y, z = reachy.l_arm.forward_kinematics()[:3,-1] # We want the translation part of Reachy's pose matrix\n",
    "    reachy.head.look_at(x=x, y=y, z=z-0.05, duration=1.0) # There is a 5cm offset on the z axis\n",
    "\n",
    "    time.sleep(0.5)\n",
    "\n",
    "    while True:\n",
    "        x, y, z = reachy.l_arm.forward_kinematics()[:3,-1]\n",
    "        gp_dic = reachy.head._look_at(x, y, z - 0.05)\n",
    "        reachy.head.neck_disk_bottom.goal_position = gp_dic[reachy.head.neck_disk_bottom]\n",
    "        reachy.head.neck_disk_middle.goal_position = gp_dic[reachy.head.neck_disk_middle]\n",
    "        reachy.head.neck_disk_top.goal_position = gp_dic[reachy.head.neck_disk_top]\n",
    "        time.sleep(0.01)\n",
    "except AttributeError:\n",
    "    print('Reachy has no left arm!')"
   ]
  },
  {
   "cell_type": "markdown",
   "id": "844312e6",
   "metadata": {},
   "source": [
    "## Checking the antennas\n",
    "\n",
    "Check that the l_antenna is actually the left and that r_antenna is the right."
   ]
  },
  {
   "cell_type": "code",
   "execution_count": null,
   "id": "c20ba637",
   "metadata": {},
   "outputs": [],
   "source": [
    "reachy.head.l_antenna.goal_position = -40"
   ]
  },
  {
   "cell_type": "code",
   "execution_count": null,
   "id": "a9facac4",
   "metadata": {},
   "outputs": [],
   "source": [
    "reachy.head.l_antenna.goal_position = 0"
   ]
  },
  {
   "cell_type": "code",
   "execution_count": null,
   "id": "9317ea0a",
   "metadata": {},
   "outputs": [],
   "source": [
    "reachy.head.r_antenna.goal_position = -40"
   ]
  },
  {
   "cell_type": "code",
   "execution_count": null,
   "id": "ccb98642",
   "metadata": {},
   "outputs": [],
   "source": [
    "reachy.head.r_antenna.goal_position = 0"
   ]
  },
  {
   "cell_type": "markdown",
   "id": "7dd667ba",
   "metadata": {},
   "source": [
    "Reproduce the sad and happy movements from the [documentation](https://pollen-robotics.github.io/reachy-2021-docs/sdk/first-moves/head/#antennas)."
   ]
  },
  {
   "cell_type": "code",
   "execution_count": null,
   "id": "ff9d530e",
   "metadata": {},
   "outputs": [],
   "source": [
    "def happy_antennas():\n",
    "    reachy.head.l_antenna.speed_limit = 0.0\n",
    "    reachy.head.r_antenna.speed_limit = 0.0\n",
    "    \n",
    "    for _ in range(9):\n",
    "        reachy.head.l_antenna.goal_position = 10.0\n",
    "        reachy.head.r_antenna.goal_position = -10.0\n",
    "\n",
    "        time.sleep(0.1)\n",
    "\n",
    "        reachy.head.l_antenna.goal_position = -10.0\n",
    "        reachy.head.r_antenna.goal_position = 10.0\n",
    "\n",
    "        time.sleep(0.1)\n",
    "    \n",
    "    reachy.head.l_antenna.goal_position = 0.0\n",
    "    reachy.head.r_antenna.goal_position = 0.0\n",
    "        \n",
    "def sad_antennas():\n",
    "    reachy.head.l_antenna.speed_limit = 70.0\n",
    "    reachy.head.r_antenna.speed_limit = 70.0\n",
    "    \n",
    "    reachy.head.l_antenna.goal_position = 140.0\n",
    "    reachy.head.r_antenna.goal_position = -140.0\n",
    "    \n",
    "    time.sleep(5.0)\n",
    "    \n",
    "    reachy.head.l_antenna.goal_position = 0.0\n",
    "    reachy.head.r_antenna.goal_position = 0.0"
   ]
  },
  {
   "cell_type": "code",
   "execution_count": null,
   "id": "d34affa3",
   "metadata": {},
   "outputs": [],
   "source": [
    "happy_antennas()"
   ]
  },
  {
   "cell_type": "code",
   "execution_count": null,
   "id": "41e4cdda",
   "metadata": {},
   "outputs": [],
   "source": [
    "sad_antennas()"
   ]
  },
  {
   "cell_type": "markdown",
   "id": "fc2b0da7",
   "metadata": {},
   "source": [
    "Once you're done using the antennas, make Reachy look forward."
   ]
  },
  {
   "cell_type": "code",
   "execution_count": null,
   "id": "81cd36cd",
   "metadata": {},
   "outputs": [],
   "source": [
    "reachy.head.look_at(x=0.5, y=0, z=0, duration=1.0)"
   ]
  },
  {
   "cell_type": "markdown",
   "id": "7659724b",
   "metadata": {},
   "source": [
    "and turn off the motors."
   ]
  },
  {
   "cell_type": "code",
   "execution_count": null,
   "id": "2c583680",
   "metadata": {},
   "outputs": [],
   "source": [
    "reachy.turn_off('head')"
   ]
  },
  {
   "cell_type": "markdown",
   "id": "afd756b4",
   "metadata": {},
   "source": [
    "## Checking the motorized zooms"
   ]
  },
  {
   "cell_type": "markdown",
   "id": "265ce67a",
   "metadata": {},
   "source": [
    "Check out each of the three zoom levels defined on both cameras.\n",
    "\n",
    "At the same time, use [view_cam.py](https://github.com/pollen-robotics/reachy_controllers/blob/master/examples/view_cam.py) in *~/reachy_ws/src/reachy_controllers/examples* to visualize the cameras and check if the images are clear enough.\n",
    "\n",
    "To view video stream of the left camera, just type:\n",
    "```bash\n",
    "python3 ~/reachy_ws/src/reachy_controllers/examples/view_cam.py left ros\n",
    "```"
   ]
  },
  {
   "cell_type": "code",
   "execution_count": null,
   "id": "7611bd88",
   "metadata": {},
   "outputs": [],
   "source": [
    "from PIL import Image"
   ]
  },
  {
   "cell_type": "markdown",
   "id": "fb3767a0",
   "metadata": {},
   "source": [
    "Check left and right image."
   ]
  },
  {
   "cell_type": "code",
   "execution_count": null,
   "id": "96154320",
   "metadata": {},
   "outputs": [],
   "source": [
    "import cv2 as cv\n",
    "\n",
    "img = reachy.left_camera.last_frame\n",
    "\n",
    "cv.imshow('left_frame', img)\n",
    "cv.waitKey(0)\n",
    "cv.destroyAllWindows()"
   ]
  },
  {
   "cell_type": "code",
   "execution_count": null,
   "id": "d64104df",
   "metadata": {},
   "outputs": [],
   "source": [
    "Image.fromarray(reachy.left_camera.last_frame[:,:,::-1])"
   ]
  },
  {
   "cell_type": "code",
   "execution_count": null,
   "id": "f5146bc4",
   "metadata": {},
   "outputs": [],
   "source": [
    "Image.fromarray(reachy.right_camera.last_frame[:,:,::-1])"
   ]
  },
  {
   "cell_type": "markdown",
   "id": "349d8a4f",
   "metadata": {},
   "source": [
    "If the image is not clear, use autofocus."
   ]
  },
  {
   "cell_type": "code",
   "execution_count": null,
   "id": "90edbb2f",
   "metadata": {},
   "outputs": [],
   "source": [
    "reachy.left_camera.start_autofocus"
   ]
  },
  {
   "cell_type": "code",
   "execution_count": null,
   "id": "e50b445b",
   "metadata": {},
   "outputs": [],
   "source": [
    "reachy.right_camera.start_autofocus"
   ]
  },
  {
   "cell_type": "code",
   "execution_count": 29,
   "id": "aa0d60ce",
   "metadata": {},
   "outputs": [
    {
     "name": "stdout",
     "output_type": "stream",
     "text": [
      "horizontal angle is 5.9 °  vertical angle is -2.7 °\n",
      "horizontal angle is -2.0 °  vertical angle is 0.4 °\n"
     ]
    }
   ],
   "source": [
    "import cv2\n",
    "from math import radians\n",
    "\n",
    "class face_rectangle:\n",
    "    def __init__(self, x, y, w, h):\n",
    "        self.x = x\n",
    "        self.y = y\n",
    "        self.w = w\n",
    "        self.h = h\n",
    "\n",
    "# Mathematical transformations\n",
    "def give_center(x, y, w, h):\n",
    "    return (x + w/2, y + h/2)\n",
    "\n",
    "def give_pos_from_center(frame_center_x, frame_center_y, sqr_info):\n",
    "    center_pos = give_center(sqr_info[0], sqr_info[1], sqr_info[2], sqr_info[3])\n",
    "    return [frame_center_x - center_pos[0], frame_center_y - center_pos[1]]\n",
    "\n",
    "def scale_to_angle(gap_from_center):\n",
    "    return gap_from_center / 150 * 20\n",
    "\n",
    "def to_radians(angle):\n",
    "    return radians(angle)\n",
    "\n",
    "def get_forward_faces(cv_face_rectangles, minimum_percentage):\n",
    "    sum = 0\n",
    "    n = len(cv_face_rectangles)\n",
    "    # Mean face width computation\n",
    "    for i in range(n):\n",
    "        sum += cv_face_rectangles[i].w\n",
    "    avg = sum/n\n",
    "    kept_faces = []\n",
    "    # Adding only faces having width grater than average x minimum_%\n",
    "    for i in range(n):\n",
    "        if cv_face_rectangles[i].w >= (minimum_percentage * avg):\n",
    "            kept_faces.append(cv_face_rectangles[i])\n",
    "    return kept_faces\n",
    "\n",
    "\n",
    "# Capture functionalities\n",
    "def open_capture(index):  # index is typed int\n",
    "    cap = cv2.VideoCapture(index)\n",
    "    if not cap.isOpened():\n",
    "        print(\"Cannot open camera\")\n",
    "        exit()\n",
    "    return cap\n",
    "\n",
    "def read_capture(cap):\n",
    "    return cap.read()\n",
    "\n",
    "def face_recognition(frame, face_recognizer):\n",
    "    return face_recognizer.detectMultiScale(frame, 1.5, 4)\n",
    "\n",
    "def draw_rectangle_on_frame(frame, x, y, w, h):\n",
    "    cv2.rectangle(frame, (x, y), (x+w, y+h), (255, 0, 0), 2)\n",
    "\n",
    "def frame_display(frame, window_name):\n",
    "    cv2.imshow(window_name, frame)\n",
    "\n",
    "def free_capture_and_windows():\n",
    "    cv2.destroyAllWindows()\n",
    "\n",
    "\n",
    "def main():\n",
    "    face_recognizer = cv2.CascadeClassifier(cv2.data.haarcascades + 'haarcascade_frontalface_default.xml')\n",
    "    # cap = open_capture(0)\n",
    "    while True:\n",
    "        time.sleep(0.1)\n",
    "        # success, frame = read_capture(cap)\n",
    "        # if not success:\n",
    "        #     print(\"Can't receive frame (stream end?). Exiting ...\")\n",
    "        #     break\n",
    "        frame = reachy.right_camera.last_frame\n",
    "        faces = face_recognition(frame, face_recognizer)\n",
    "        for (x, y, w, h) in faces:\n",
    "            draw_rectangle_on_frame(frame, x, y, w, h)\n",
    "            pos_2_center = give_pos_from_center(frame.shape[1]/2, frame.shape[0]/2, (x, y, w, h))\n",
    "            if (angle_hauteur + pos_2_center[1]<45 or angle_hauteur + pos_2_center[1]>120 ):\n",
    "                continue\n",
    "            if (angle_cote + pos_2_center[0]<-50 or angle_cote +pos_2_center[0]>50):\n",
    "                continue\n",
    "            #print(pos_2_center[0])\n",
    "            mouv = spherical_to_cartesian(1,  angle_hauteur - pos_2_center[1], angle_cote + pos_2_center[0])\n",
    "            reachy.head.look_at(x=mouv[0], y=mouv[1], z=mouv[2], duration=2)\n",
    "            print(\"horizontal angle is\", round(scale_to_angle(pos_2_center[0]), 1), \"° \", \"vertical angle is\", round(scale_to_angle(pos_2_center[1]), 1), \"°\")\n",
    "        frame_display(frame, 'face_recognition')\n",
    "        if cv2.waitKey(30) == ord('q'):\n",
    "            break\n",
    "    free_capture_and_windows()\n",
    "\n",
    "main()"
   ]
  },
  {
   "cell_type": "code",
   "execution_count": null,
   "id": "aa5bb8d0",
   "metadata": {},
   "outputs": [],
   "source": []
  }
 ],
 "metadata": {
  "kernelspec": {
   "display_name": "Python 3 (ipykernel)",
   "language": "python",
   "name": "python3"
  },
  "language_info": {
   "codemirror_mode": {
    "name": "ipython",
    "version": 3
   },
   "file_extension": ".py",
   "mimetype": "text/x-python",
   "name": "python",
   "nbconvert_exporter": "python",
   "pygments_lexer": "ipython3",
   "version": "3.8.10"
  }
 },
 "nbformat": 4,
 "nbformat_minor": 5
}
